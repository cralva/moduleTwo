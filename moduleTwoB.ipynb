{
 "cells": [
  {
   "cell_type": "markdown",
   "id": "b893dde0",
   "metadata": {},
   "source": [
    "# WHILE LOOPS"
   ]
  },
  {
   "cell_type": "markdown",
   "id": "a06543bc",
   "metadata": {},
   "source": [
    "- loops are also control structures. They repeat code until a condition is met. they use the same logic and relational opeartors that conditions use\n",
    "- loops main goal is to repeat code until you do not want to the code to be repeated\n",
    "- two types: for and while\n",
    "\n",
    "-While loop: a loop that repeats code based on a specific condition and is broken due to the condition no longer being met\n",
    "\n",
    "-For loop: does similar things but is controlled by a counter. repeats code a certain number of times or repeats code until it processes a certain amount of data\n",
    "\n",
    "-in many cases "
   ]
  }
 ],
 "metadata": {
  "kernelspec": {
   "display_name": "Python 3",
   "language": "python",
   "name": "python3"
  },
  "language_info": {
   "name": "python",
   "version": "3.13.1"
  }
 },
 "nbformat": 4,
 "nbformat_minor": 5
}
