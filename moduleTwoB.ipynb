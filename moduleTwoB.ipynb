{
 "cells": [
  {
   "cell_type": "markdown",
   "id": "b893dde0",
   "metadata": {},
   "source": [
    "# WHILE LOOPS"
   ]
  },
  {
   "cell_type": "markdown",
   "id": "a06543bc",
   "metadata": {},
   "source": [
    "- loops are also control structures. They repeat code until a condition is met. they use the same logic and relational opeartors that conditions use\n",
    "- loops main goal is to repeat code until you do not want to the code to be repeated\n",
    "- two types: for and while\n",
    "\n",
    "-While loop: a loop that repeats code based on a specific condition and is broken due to the condition no longer being met\n",
    "\n",
    "-For loop: does similar things but is controlled by a counter. repeats code a certain number of times or repeats code until it processes a certain amount of data\n",
    "\n",
    "-in many cases while loops use sentinel values/flags to break loop once the flag/sentinal value is no longer true"
   ]
  },
  {
   "cell_type": "code",
   "execution_count": 4,
   "id": "4fe10b1a",
   "metadata": {},
   "outputs": [
    {
     "name": "stdout",
     "output_type": "stream",
     "text": [
      "Enter the following to calculate your sales and comission when you are done, press n and enter to exit. If you would like to enter another sale, press y and enter\n",
      "You have earned 40.0 today\n",
      "Thanks for using our program!\n"
     ]
    }
   ],
   "source": [
    "# program that will record and calculate comission based on a salary\n",
    "# while loops are very useful for making menu based program\n",
    "\n",
    "#flag\n",
    "keep_going = \"y\"\n",
    "\n",
    "print(\"Enter the following to calculate your sales and comission when you are done, press n and enter to exit. If you would like to enter another sale, press y and enter\")\n",
    "\n",
    "while keep_going == \"y\":\n",
    "    sales = float(input(\"What is your sales for the day: \"))\n",
    "    com_rate = float(input(\"What is your commission rate in the form of a decimal: \"))\n",
    "    total_earned = sales * com_rate\n",
    "    print(f'You have earned {total_earned} today')\n",
    "    keep_going = input(\"Do you wish to run the program again? Press y and enter for yes or press n and enter for no\")\n",
    "\n",
    "print(\"Thanks for using our program!\")\n",
    "\n"
   ]
  },
  {
   "cell_type": "markdown",
   "id": "584626f5",
   "metadata": {},
   "source": [
    "# Input Valudation"
   ]
  },
  {
   "cell_type": "markdown",
   "id": "73cb6fab",
   "metadata": {},
   "source": [
    "- asks for someones age if they are less than 0 (they accidentally give you a negative), ask again\n",
    "- you can also break loops by using booleans and using the break statement"
   ]
  },
  {
   "cell_type": "code",
   "execution_count": 10,
   "id": "0b624ed1",
   "metadata": {},
   "outputs": [
    {
     "name": "stdout",
     "output_type": "stream",
     "text": [
      "Your age is: 76\n"
     ]
    }
   ],
   "source": [
    "while True:\n",
    "    age = int(input(\"Give me your age: \"))\n",
    "    if age < 0:\n",
    "        print(\"You have given me an age that is less than zero. Please try again.\")\n",
    "    else:\n",
    "        break\n",
    "\n",
    "print(f'Your age is: {age}')"
   ]
  },
  {
   "cell_type": "code",
   "execution_count": null,
   "id": "d494f052",
   "metadata": {},
   "outputs": [],
   "source": [
    "# doing same thing with try/except aka try/catch\n",
    "while True:\n",
    "    try: #means \"try this\"\n",
    "        age = int(input(\"Give me your age: \"))\n",
    "        if age < 0:\n",
    "            raise ValueError\n",
    "        break\n",
    "    except ValueError:\n",
    "        print(\"Input invalid. Pleae enter positive integer\")"
   ]
  },
  {
   "cell_type": "markdown",
   "id": "693ee7ed",
   "metadata": {},
   "source": [
    "# FOR LOOP"
   ]
  },
  {
   "cell_type": "markdown",
   "id": "3bac8cca",
   "metadata": {},
   "source": [
    "- repeats code a certain amount of times. The big use of this is with data structures (lists, dicts, sets). We will look at this next module \n",
    "- python is a little weird when it comes to for loops. There are several ways you can do it, but the tradition for loop uses a range function to helo"
   ]
  },
  {
   "cell_type": "code",
   "execution_count": 15,
   "id": "b2f8f764",
   "metadata": {},
   "outputs": [
    {
     "name": "stdout",
     "output_type": "stream",
     "text": [
      "0\n",
      "1\n",
      "2\n",
      "3\n",
      "4\n",
      "-------------------\n",
      "10\n",
      "9\n",
      "8\n",
      "7\n",
      "6\n",
      "5\n",
      "4\n",
      "3\n",
      "2\n",
      "1\n"
     ]
    }
   ],
   "source": [
    "#for loops look like this in other languages\n",
    "#for (int = 1, i < 10, i = i + 1)\n",
    "\n",
    "# python does it this way\n",
    "# for iterable_value_name in range(starting_value, ending_value, increment)\n",
    "\n",
    "number = 5\n",
    "\n",
    "for i in range(0,number,1):\n",
    "    print(i)\n",
    "\n",
    "\n",
    "#seperating both loops\n",
    "print(\"-------------------\")\n",
    "\n",
    "#can also count down as well in increments\n",
    "\n",
    "countdown = 0\n",
    "for i in range(10,countdown, -1):\n",
    "    print(i)"
   ]
  },
  {
   "cell_type": "markdown",
   "id": "fcdb7ae6",
   "metadata": {},
   "source": [
    "# FOR LOOPS WITH LISTS"
   ]
  },
  {
   "cell_type": "markdown",
   "id": "05a6e002",
   "metadata": {},
   "source": [
    "- lists can hold multiple items in one structure or variable"
   ]
  },
  {
   "cell_type": "code",
   "execution_count": null,
   "id": "8bd3654a",
   "metadata": {},
   "outputs": [
    {
     "name": "stdout",
     "output_type": "stream",
     "text": [
      "bananas\n",
      "apple\n",
      "cherry\n"
     ]
    }
   ],
   "source": [
    "#make a blank or empty list\n",
    "my_list = []\n",
    "\n",
    "#initialize a list with data\n",
    "fruits = [\"bananas\", \"apple\", \"cherry\"]\n",
    "#grab all the fruits from a list and display them\n",
    "#we can use our for in loop\n",
    "#for item in list of items\n",
    "for fruit in fruits:\n",
    "    print(fruit)"
   ]
  },
  {
   "cell_type": "markdown",
   "id": "8ede2baf",
   "metadata": {},
   "source": [
    "# AVERAGE"
   ]
  },
  {
   "cell_type": "markdown",
   "id": "97dbe174",
   "metadata": {},
   "source": [
    "- another use of loops is accumulation of numbers or keeping running totals"
   ]
  },
  {
   "cell_type": "code",
   "execution_count": 17,
   "id": "2111cd01",
   "metadata": {},
   "outputs": [
    {
     "name": "stdout",
     "output_type": "stream",
     "text": [
      "Your total sum is 144.0\n",
      "Your average is 28.8\n"
     ]
    }
   ],
   "source": [
    "#this program will average numbers for a user\n",
    "total_sum = 0\n",
    "average = 0\n",
    "\n",
    "how_many_numbers = int(input(\"How many numbers do you wish to average: \"))\n",
    "\n",
    "#count controlled loop because the user is giving us how many numbers they wish to enter\n",
    "#use a for loop\n",
    "\n",
    "for i in range(0, how_many_numbers, 1):\n",
    "    value = float(input(\"Please enter a value you wish to be averaged\"))\n",
    "    total_sum = total_sum + value\n",
    "\n",
    "print(f'Your total sum is {total_sum}')\n",
    "average = total_sum / how_many_numbers\n",
    "print(f'Your average is {average}')\n",
    "\n"
   ]
  }
 ],
 "metadata": {
  "kernelspec": {
   "display_name": "Python 3",
   "language": "python",
   "name": "python3"
  },
  "language_info": {
   "codemirror_mode": {
    "name": "ipython",
    "version": 3
   },
   "file_extension": ".py",
   "mimetype": "text/x-python",
   "name": "python",
   "nbconvert_exporter": "python",
   "pygments_lexer": "ipython3",
   "version": "3.13.1"
  }
 },
 "nbformat": 4,
 "nbformat_minor": 5
}
