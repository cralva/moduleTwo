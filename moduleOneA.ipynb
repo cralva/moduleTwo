{
 "cells": [
  {
   "cell_type": "markdown",
   "id": "4511d37c",
   "metadata": {},
   "source": [
    "# If Statements"
   ]
  },
  {
   "cell_type": "markdown",
   "id": "d463ca64",
   "metadata": {},
   "source": [
    "- if statemnets allow you to control the flow of a program. if something is true, the code will run in the spaced or \n",
    "indentation below the if statement. if not, the if statement if skipped\n",
    "\n",
    "- relational operators - determine whether a condition or replationship between two variables is true or false. All if statements\n",
    "return a boolean value\n",
    "\n",
    "- <,>, <=, >=, ==, !=\n",
    "\n",
    "- if statement.. no else. called a single alterantive"
   ]
  },
  {
   "cell_type": "code",
   "execution_count": null,
   "id": "60559c2c",
   "metadata": {},
   "outputs": [
    {
     "name": "stdout",
     "output_type": "stream",
     "text": [
      "A is greater than 2\n"
     ]
    }
   ],
   "source": [
    "a = 5\n",
    "if a > 2:\n",
    "    print(\"A is greater than 2\")"
   ]
  },
  {
   "cell_type": "markdown",
   "id": "c404916d",
   "metadata": {},
   "source": [
    "- when dealing with equals statements we need to use == instead of = to compare when things are equal\n",
    "- = assigns value, think variables"
   ]
  },
  {
   "cell_type": "code",
   "execution_count": null,
   "id": "ef3a7769",
   "metadata": {},
   "outputs": [
    {
     "name": "stdout",
     "output_type": "stream",
     "text": [
      "These two are equal\n"
     ]
    }
   ],
   "source": [
    "a = 7\n",
    "b = 7\n",
    "\n",
    "if a == b:\n",
    "    print(\"These two are equal\")"
   ]
  },
  {
   "cell_type": "markdown",
   "id": "29cfe8df",
   "metadata": {},
   "source": [
    "- != means to compare two values to see if they are not equal\n",
    "- we will see the \"not\" (!) operator later on, but basically it takes the boolean result and flips it"
   ]
  },
  {
   "cell_type": "code",
   "execution_count": 13,
   "id": "2a5ce96b",
   "metadata": {},
   "outputs": [
    {
     "name": "stdout",
     "output_type": "stream",
     "text": [
      "These numbers are not equal.\n"
     ]
    }
   ],
   "source": [
    "firstNumber = int(input(\"Give me a whole number: \"))\n",
    "secondNumber = int(input(\"Give me a second number: \"))\n",
    "\n",
    "if firstNumber != secondNumber:\n",
    "    print(\"These numbers are not equal.\")"
   ]
  },
  {
   "cell_type": "markdown",
   "id": "93de3a56",
   "metadata": {},
   "source": [
    "# else Statement"
   ]
  },
  {
   "cell_type": "markdown",
   "id": "d27cf3b9",
   "metadata": {},
   "source": [
    "- if-else statements are called dual-alternative. If a statement is true, the path will flow into the if statement. If the statement is false\n",
    "the path will flow into the else statement\n",
    "\n",
    "- else literally means anything else"
   ]
  },
  {
   "cell_type": "code",
   "execution_count": 11,
   "id": "52610cb1",
   "metadata": {},
   "outputs": [
    {
     "name": "stdout",
     "output_type": "stream",
     "text": [
      "A and B are not equal\n"
     ]
    }
   ],
   "source": [
    "a = 7\n",
    "b = 9\n",
    "\n",
    "if a == b:\n",
    "    print(\"A and B are equal\")\n",
    "else:\n",
    "    print(\"A and B are not equal\")"
   ]
  },
  {
   "cell_type": "markdown",
   "id": "6c4b6826",
   "metadata": {},
   "source": [
    "## can you vote program\n",
    "- the code below will test to see if someone is old enough to vote"
   ]
  },
  {
   "cell_type": "code",
   "execution_count": 12,
   "id": "956ad8c2",
   "metadata": {},
   "outputs": [
    {
     "name": "stdout",
     "output_type": "stream",
     "text": [
      "You can vote!\n"
     ]
    }
   ],
   "source": [
    "age = int(input(\"Enter your age: \"))\n",
    "\n",
    "if age >= 18:\n",
    "    print(\"You can vote!\")\n",
    "else:\n",
    "    print(\"You are not old enough\")"
   ]
  },
  {
   "cell_type": "markdown",
   "id": "f7b24a5d",
   "metadata": {},
   "source": [
    "# NESTED IF-STATEMEMT"
   ]
  },
  {
   "cell_type": "markdown",
   "id": "2760e611",
   "metadata": {},
   "source": [
    "- nested ifs work by having a series of if statements that must be true and drilled down to an order to run\n",
    "- compound conditions work similarirly but not in the same way\n",
    "- we try to avoid nested-ifs when possible bc it can be hard to read and takes up too much memory processing"
   ]
  },
  {
   "cell_type": "code",
   "execution_count": null,
   "id": "e681ae6d",
   "metadata": {},
   "outputs": [
    {
     "name": "stdout",
     "output_type": "stream",
     "text": [
      "Ticket price is: $10.0\n",
      "Ticket price is: $10.0\n"
     ]
    }
   ],
   "source": [
    "# making a quick program for discounted movie tix if you are 12 or younger or 65 and older\n",
    "\n",
    "ticketPrice = 10.00\n",
    "discount = .10\n",
    "age = int(input(\"Enter your age: \"))\n",
    "rating = \"G\"\n",
    "\n",
    "#when comparing strings, capitalization DOES matter\n",
    "if rating == \"G\":\n",
    "    if age <= 12:\n",
    "        ticketPrice = ticketPrice - (ticketPrice * discount)\n",
    "        print(f'Child discount. Price: ${ticketPrice}')\n",
    "    else:\n",
    "        print(f'Ticket price is: ${ticketPrice}')\n",
    "    if age >= 65:\n",
    "        ticketPrice = ticketPrice - (ticketPrice * discount)\n",
    "        print(f'Senior Discount. Price: ${ticketPrice}')\n",
    "    else:\n",
    "        print(f'Ticket price is: ${ticketPrice}')\n",
    "else:\n",
    "    print(\"Rating is not G, discount not allowed, Ticket price is\", + ticketPrice)\n",
    "\n",
    "#its hard because nested ifs can become cumbersome and can make the program more difficult. There is a better method"
   ]
  },
  {
   "cell_type": "markdown",
   "id": "adc5edda",
   "metadata": {},
   "source": [
    "# ELIF statement is what we should use instead of nested ifs"
   ]
  },
  {
   "cell_type": "markdown",
   "id": "12389070",
   "metadata": {},
   "source": [
    "- multi alternative which means that there are more than two conditions that we are trying to solve for\n",
    "- usually deals with ranges or deals with looking for certain values out of a list of values or conditions\n",
    "- we use \"elif\" for this (also known as else if) in python"
   ]
  },
  {
   "cell_type": "code",
   "execution_count": null,
   "id": "2ec8980f",
   "metadata": {},
   "outputs": [
    {
     "name": "stdout",
     "output_type": "stream",
     "text": [
      "Your letter grade is: A\n"
     ]
    }
   ],
   "source": [
    "#an example of taking a numerical grade, and assigning a letter grade based on the following\n",
    "\n",
    "grade = int(input(\"Enter your grade: \"))\n",
    "letterGrade = \"\"\n",
    "\n",
    "if grade >= 90:\n",
    "    letterGrade = \"A\"\n",
    "elif grade >= 80:\n",
    "    letterGrade = \"B\"\n",
    "elif grade >= 70:\n",
    "    letterGrade = \"C\"\n",
    "elif grade >= 60:\n",
    "    letterGrade = \"D\"\n",
    "else:\n",
    "    letterGrade = \"F\"\n",
    "\n",
    "print(f'Your letter grade is: {letterGrade}')\n",
    "\n",
    "#short-cuircuting is when an if or elif statement is met, it skips the rest of the statements below (order matters. if we had 70 statement first\n",
    "# and we inputted a value of 90 then it would say we get a C since the 70 statement is first)"
   ]
  },
  {
   "cell_type": "markdown",
   "id": "fe27ac80",
   "metadata": {},
   "source": [
    "# Compound Operators"
   ]
  },
  {
   "cell_type": "markdown",
   "id": "f2225d25",
   "metadata": {},
   "source": [
    "- compound operators allow you to check for multiple condiditions inline with your if-statements\n",
    "- there are three types of compound operators\n",
    "1. and - both things must be true for the if statment to be evaluated to true\n",
    "2. or - only one needs to be true for the if statement to be eveluated to true\n",
    "3. not - flips the boolean result to its opposite. true becomes false/ false becomes true\n",
    "\n",
    "- AND truth table - comparing booleans to see if result is true or false\n",
    "1. t/t = t\n",
    "2. t/f = f\n",
    "3. f/t = f\n",
    "4. f/f - f\n"
   ]
  },
  {
   "cell_type": "markdown",
   "id": "f07c6f9b",
   "metadata": {},
   "source": [
    "# Using AND compound operator and comparing nested vs compound"
   ]
  },
  {
   "cell_type": "code",
   "execution_count": null,
   "id": "d5ff54dd",
   "metadata": {},
   "outputs": [
    {
     "name": "stdout",
     "output_type": "stream",
     "text": [
      "You can't vote because of your age\n",
      "You cannot vote\n"
     ]
    }
   ],
   "source": [
    "# using previous voting example and using a compound. We said you had to 18 and older to vote but NOW we're going to add that you must be \n",
    "# registered to vote\n",
    "\n",
    "# you can do this a few ways but lets look at 2\n",
    "# 1. nesting (bad)\n",
    "# - nested statements must be true all the way down as we go. for 3rd line to execute, both ifs must be true\n",
    "age = 16\n",
    "registered = \"y\"\n",
    "\n",
    "if age >= 18:\n",
    "    if registered == \"y\":\n",
    "        print(\"You can vote!\")\n",
    "    else:\n",
    "        print(\"You can't vote because you are not registered\")\n",
    "else:\n",
    "    print(\"You can't vote because of your age\")\n",
    "\n",
    "\n",
    "\n",
    "#2. using compound conditions (AND)\n",
    "\n",
    "if age >= 18 and registered == \"y\":\n",
    "    print(\"You can vote\")\n",
    "elif age >= 18 and registered == \"n\":\n",
    "    print(\"You are old enough but are not registered\")\n",
    "elif age <= 17 and registered == \"y\":\n",
    "    print(\"You are not old enough to vote but you are registered. You canot vote\")\n",
    "else:\n",
    "    print(\"You cannot vote because you are not old enough and are not registered\")"
   ]
  },
  {
   "cell_type": "markdown",
   "id": "e1d3b47b",
   "metadata": {},
   "source": [
    "# using OR operators"
   ]
  },
  {
   "cell_type": "markdown",
   "id": "b6e87a0b",
   "metadata": {},
   "source": [
    "- an OR compound or logical statement is true if either condition is true\n",
    "- ie only one condition must be true for the if statement to be executed\n",
    "- OR truth table\n",
    "1. t/t = true\n",
    "2. t/f = true\n",
    "3. f/t = true\n",
    "4/ f/f = false"
   ]
  },
  {
   "cell_type": "code",
   "execution_count": 45,
   "id": "1cbf9632",
   "metadata": {},
   "outputs": [
    {
     "name": "stdout",
     "output_type": "stream",
     "text": [
      "Your ticket price is: 9.0\n"
     ]
    }
   ],
   "source": [
    "# using movie example discounted tickets but using Or conditional\n",
    "# lets ignore the g rating. Remember 12 and younger get a discount and 65 and up\n",
    "\n",
    "ticket_price = 10.00\n",
    "discount = .10\n",
    "age = int(input(\"How old are you: \"))\n",
    "\n",
    "if age <= 12 or age >= 65:\n",
    "    ticket_price = ticket_price - (ticket_price * discount)\n",
    "    print(f\"Your ticket price is: {ticket_price}\")\n",
    "else:\n",
    "    print(f\"Your ticket price is: {ticket_price}\")"
   ]
  },
  {
   "cell_type": "markdown",
   "id": "eb4a4bb6",
   "metadata": {},
   "source": [
    "# NOT compound"
   ]
  },
  {
   "cell_type": "markdown",
   "id": "63cef3fa",
   "metadata": {},
   "source": [
    "- NOT takes whatever evaluation in an if statement and returns the opposite answer\n",
    "- usually needed for more complicated logic or guard statements\n",
    "- true becomes false\n",
    "- false becomes true"
   ]
  },
  {
   "cell_type": "code",
   "execution_count": null,
   "id": "84815e3f",
   "metadata": {},
   "outputs": [
    {
     "name": "stdout",
     "output_type": "stream",
     "text": [
      "X is equal to either 10 or 11\n"
     ]
    }
   ],
   "source": [
    "x = 10\n",
    "\n",
    "if not x == 10 or x == 11:\n",
    "    #ignore the not at first and evaluate the code to see if its true or false, then pay attention to the not and flip the evaluation\n",
    "    print(\"X is not equal to 10 or 11\")\n",
    "else:\n",
    "    print(\"X is equal to either 10 or 11\")\n",
    "\n",
    "\n",
    "x = 9\n",
    "\n",
    "if not x == 10 or x == 11:\n",
    "    #ignore the not at first and evaluate the code to see if its true or false, then pay attention to the not and flip the evaluation\n",
    "    print(\"X is not equal to 10 or 11\")\n",
    "else:\n",
    "    print(\"X is equal to either 10 or 11\")"
   ]
  },
  {
   "cell_type": "markdown",
   "id": "8a2e9ff2",
   "metadata": {},
   "source": [
    "# going to bring everything together and create a salary program"
   ]
  },
  {
   "cell_type": "markdown",
   "id": "8ccba39c",
   "metadata": {},
   "source": [
    "- create a program that determines if you can get a loan based on your salary and years worked\n",
    "- if you have worked two years or more and your salary is greater than $30k a year then you qualify for a loan"
   ]
  },
  {
   "cell_type": "code",
   "execution_count": 49,
   "id": "fe568fdf",
   "metadata": {},
   "outputs": [
    {
     "name": "stdout",
     "output_type": "stream",
     "text": [
      "Salary is not met. Years of employment is met.\n"
     ]
    }
   ],
   "source": [
    "# salary\n",
    "salary = float(input(\"Enter your salary for the year: \"))\n",
    "yearsEmployed = int(input(\"Enter how many years you've worked: \"))\n",
    "\n",
    "if salary >= 30000 and yearsEmployed >= 2:\n",
    "    print(\"You qualify for a loan.\")\n",
    "\n",
    "#lets deal with the alternative of not qualifying\n",
    "#we want the user to know why they don't qualify\n",
    "#years on the job -doesnt meet.... salary does meet\n",
    "elif salary >= 30000 and yearsEmployed < 2:\n",
    "    print(\"Salary is met but years employed is not met.\")\n",
    "\n",
    "#salary doesnt meet but years on the job is met\n",
    "elif salary < 30000 and yearsEmployed >= 2:\n",
    "    print(\"Salary is not met. Years of employment is met.\")\n",
    "\n",
    "#netiher is met\n",
    "else:\n",
    "    print(\"You are underqualified. Salary threshold is not met nor is years employed.\")"
   ]
  }
 ],
 "metadata": {
  "kernelspec": {
   "display_name": "Python 3",
   "language": "python",
   "name": "python3"
  },
  "language_info": {
   "codemirror_mode": {
    "name": "ipython",
    "version": 3
   },
   "file_extension": ".py",
   "mimetype": "text/x-python",
   "name": "python",
   "nbconvert_exporter": "python",
   "pygments_lexer": "ipython3",
   "version": "3.13.1"
  }
 },
 "nbformat": 4,
 "nbformat_minor": 5
}
